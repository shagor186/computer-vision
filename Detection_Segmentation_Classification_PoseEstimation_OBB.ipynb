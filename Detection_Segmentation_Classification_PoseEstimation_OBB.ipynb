{
 "cells": [
  {
   "cell_type": "code",
   "execution_count": 3,
   "id": "fbd853d9-f2d6-495b-84fa-193079125587",
   "metadata": {},
   "outputs": [],
   "source": [
    "# !nvidia-smi"
   ]
  },
  {
   "cell_type": "code",
   "execution_count": null,
   "id": "211f7199-9d67-4faf-b27c-1aead3549c8b",
   "metadata": {},
   "outputs": [],
   "source": []
  },
  {
   "cell_type": "code",
   "execution_count": 25,
   "id": "884a84c1-4eed-4791-8bd0-555e5988f5a3",
   "metadata": {},
   "outputs": [],
   "source": [
    "from ultralytics import YOLO"
   ]
  },
  {
   "cell_type": "code",
   "execution_count": null,
   "id": "56ed8aa9-d869-43c5-9dfe-e74a588fae70",
   "metadata": {},
   "outputs": [],
   "source": []
  },
  {
   "cell_type": "markdown",
   "id": "8ff76a57-0347-48a7-983f-83fbdd2abe52",
   "metadata": {},
   "source": [
    "# 1. Object Detection"
   ]
  },
  {
   "cell_type": "code",
   "execution_count": 26,
   "id": "5d2dd6dd-63a5-40a4-9e22-a2562f38bee1",
   "metadata": {},
   "outputs": [],
   "source": [
    "model = YOLO('yolo11n.pt')"
   ]
  },
  {
   "cell_type": "code",
   "execution_count": 27,
   "id": "ed799ba9-24c5-4175-9c6f-102f4583b0a6",
   "metadata": {},
   "outputs": [
    {
     "name": "stdout",
     "output_type": "stream",
     "text": [
      "{0: 'person', 1: 'bicycle', 2: 'car', 3: 'motorcycle', 4: 'airplane', 5: 'bus', 6: 'train', 7: 'truck', 8: 'boat', 9: 'traffic light', 10: 'fire hydrant', 11: 'stop sign', 12: 'parking meter', 13: 'bench', 14: 'bird', 15: 'cat', 16: 'dog', 17: 'horse', 18: 'sheep', 19: 'cow', 20: 'elephant', 21: 'bear', 22: 'zebra', 23: 'giraffe', 24: 'backpack', 25: 'umbrella', 26: 'handbag', 27: 'tie', 28: 'suitcase', 29: 'frisbee', 30: 'skis', 31: 'snowboard', 32: 'sports ball', 33: 'kite', 34: 'baseball bat', 35: 'baseball glove', 36: 'skateboard', 37: 'surfboard', 38: 'tennis racket', 39: 'bottle', 40: 'wine glass', 41: 'cup', 42: 'fork', 43: 'knife', 44: 'spoon', 45: 'bowl', 46: 'banana', 47: 'apple', 48: 'sandwich', 49: 'orange', 50: 'broccoli', 51: 'carrot', 52: 'hot dog', 53: 'pizza', 54: 'donut', 55: 'cake', 56: 'chair', 57: 'couch', 58: 'potted plant', 59: 'bed', 60: 'dining table', 61: 'toilet', 62: 'tv', 63: 'laptop', 64: 'mouse', 65: 'remote', 66: 'keyboard', 67: 'cell phone', 68: 'microwave', 69: 'oven', 70: 'toaster', 71: 'sink', 72: 'refrigerator', 73: 'book', 74: 'clock', 75: 'vase', 76: 'scissors', 77: 'teddy bear', 78: 'hair drier', 79: 'toothbrush'}\n"
     ]
    }
   ],
   "source": [
    "print(model.names)"
   ]
  },
  {
   "cell_type": "markdown",
   "id": "1726715e-71d4-4301-a46c-555252601963",
   "metadata": {},
   "source": [
    "### 1.1 Images"
   ]
  },
  {
   "cell_type": "code",
   "execution_count": 28,
   "id": "a38255be-4ad4-4713-91f6-77ce5b13184a",
   "metadata": {},
   "outputs": [
    {
     "name": "stdout",
     "output_type": "stream",
     "text": [
      "\n",
      "image 1/1 /home/shagor/Desktop/Code/Computer vision/img/cr.jpg: 640x512 1 person, 88.8ms\n",
      "Speed: 8.7ms preprocess, 88.8ms inference, 0.8ms postprocess per image at shape (1, 3, 640, 512)\n"
     ]
    }
   ],
   "source": [
    "res = model(\"img/cr.jpg\", device=\"cpu\")  # use device=\"cuda\" if GPU is set up"
   ]
  },
  {
   "cell_type": "markdown",
   "id": "58a70189-2e34-4e19-b6f9-3eac81531ff6",
   "metadata": {},
   "source": [
    "**Images Show**"
   ]
  },
  {
   "cell_type": "code",
   "execution_count": 29,
   "id": "a1313151-edb5-4c61-8457-820d3ce37dec",
   "metadata": {},
   "outputs": [],
   "source": [
    "res[0].show()"
   ]
  },
  {
   "cell_type": "markdown",
   "id": "20044a8b-8308-44b5-ba30-ce3dfe8ff7a1",
   "metadata": {},
   "source": [
    "**Images Save**"
   ]
  },
  {
   "cell_type": "code",
   "execution_count": 16,
   "id": "1e4be7b3-9c06-4f25-85e3-8e18e0243bf6",
   "metadata": {
    "scrolled": true
   },
   "outputs": [
    {
     "name": "stdout",
     "output_type": "stream",
     "text": [
      "\n",
      "image 1/1 /home/shagor/Desktop/Code/Computer vision/img/js_b.jpg: 480x640 1 person, 1 bottle, 142.2ms\n",
      "Speed: 4.2ms preprocess, 142.2ms inference, 1.1ms postprocess per image at shape (1, 3, 480, 640)\n",
      "Results saved to \u001b[1m/home/shagor/Desktop/Code/Computer vision/runs/detect/predict\u001b[0m\n"
     ]
    }
   ],
   "source": [
    "res = model('img/js_b.jpg', save=True)"
   ]
  },
  {
   "cell_type": "markdown",
   "id": "adf96e11-52fc-4b9b-9dea-99b5a7e8bec4",
   "metadata": {},
   "source": [
    "### 1.2 Video"
   ]
  },
  {
   "cell_type": "code",
   "execution_count": 18,
   "id": "ae52270a-735f-4073-b71e-b89fe18a5fc4",
   "metadata": {},
   "outputs": [],
   "source": [
    "# res = model('vid/s.mp4', save=True)"
   ]
  },
  {
   "cell_type": "markdown",
   "id": "6a5d2767-d99a-4b62-9c13-e9e246dec438",
   "metadata": {},
   "source": [
    "### 1.3 web camera"
   ]
  },
  {
   "cell_type": "code",
   "execution_count": 2,
   "id": "a0378ad8-ceb5-415a-bc67-66dd96930442",
   "metadata": {},
   "outputs": [],
   "source": [
    "# res = model(0, save=True)"
   ]
  },
  {
   "cell_type": "code",
   "execution_count": null,
   "id": "a747fe9f-0ac4-4e67-a3f2-65f417c4feb1",
   "metadata": {},
   "outputs": [],
   "source": []
  },
  {
   "cell_type": "code",
   "execution_count": null,
   "id": "5c57ca09-3d39-4671-b8ef-7870a700dd46",
   "metadata": {},
   "outputs": [],
   "source": []
  },
  {
   "cell_type": "code",
   "execution_count": null,
   "id": "e847c635-6f9f-401f-be16-fb3650b50820",
   "metadata": {},
   "outputs": [],
   "source": []
  },
  {
   "cell_type": "markdown",
   "id": "574e5fcf-5ec4-4530-8958-0d60e12667a0",
   "metadata": {},
   "source": [
    "# 2. Instance Segmentation"
   ]
  },
  {
   "cell_type": "code",
   "execution_count": 36,
   "id": "56fb23f4-7bed-466f-980d-e8966e435103",
   "metadata": {},
   "outputs": [],
   "source": [
    "model = YOLO('yolo11n-seg.pt')"
   ]
  },
  {
   "cell_type": "code",
   "execution_count": 37,
   "id": "b2e8888a-7428-4419-9137-8edd3f844b8c",
   "metadata": {},
   "outputs": [
    {
     "name": "stdout",
     "output_type": "stream",
     "text": [
      "{0: 'person', 1: 'bicycle', 2: 'car', 3: 'motorcycle', 4: 'airplane', 5: 'bus', 6: 'train', 7: 'truck', 8: 'boat', 9: 'traffic light', 10: 'fire hydrant', 11: 'stop sign', 12: 'parking meter', 13: 'bench', 14: 'bird', 15: 'cat', 16: 'dog', 17: 'horse', 18: 'sheep', 19: 'cow', 20: 'elephant', 21: 'bear', 22: 'zebra', 23: 'giraffe', 24: 'backpack', 25: 'umbrella', 26: 'handbag', 27: 'tie', 28: 'suitcase', 29: 'frisbee', 30: 'skis', 31: 'snowboard', 32: 'sports ball', 33: 'kite', 34: 'baseball bat', 35: 'baseball glove', 36: 'skateboard', 37: 'surfboard', 38: 'tennis racket', 39: 'bottle', 40: 'wine glass', 41: 'cup', 42: 'fork', 43: 'knife', 44: 'spoon', 45: 'bowl', 46: 'banana', 47: 'apple', 48: 'sandwich', 49: 'orange', 50: 'broccoli', 51: 'carrot', 52: 'hot dog', 53: 'pizza', 54: 'donut', 55: 'cake', 56: 'chair', 57: 'couch', 58: 'potted plant', 59: 'bed', 60: 'dining table', 61: 'toilet', 62: 'tv', 63: 'laptop', 64: 'mouse', 65: 'remote', 66: 'keyboard', 67: 'cell phone', 68: 'microwave', 69: 'oven', 70: 'toaster', 71: 'sink', 72: 'refrigerator', 73: 'book', 74: 'clock', 75: 'vase', 76: 'scissors', 77: 'teddy bear', 78: 'hair drier', 79: 'toothbrush'}\n"
     ]
    }
   ],
   "source": [
    "print(model.names)"
   ]
  },
  {
   "cell_type": "markdown",
   "id": "2b70a5d5-f0d6-46ef-be9e-61d1be435c45",
   "metadata": {},
   "source": [
    "### 2.1 Images"
   ]
  },
  {
   "cell_type": "code",
   "execution_count": 38,
   "id": "9760e36e-1544-40d5-bbce-4ac9ff025811",
   "metadata": {},
   "outputs": [
    {
     "name": "stdout",
     "output_type": "stream",
     "text": [
      "\n",
      "image 1/1 /home/shagor/Desktop/Code/Computer vision/img/cr.jpg: 640x512 1 person, 98.0ms\n",
      "Speed: 5.5ms preprocess, 98.0ms inference, 2.2ms postprocess per image at shape (1, 3, 640, 512)\n"
     ]
    }
   ],
   "source": [
    "res = model(\"img/cr.jpg\", device=\"cpu\")  # use device=\"cuda\" if GPU is set up"
   ]
  },
  {
   "cell_type": "code",
   "execution_count": 39,
   "id": "77422240-ad8f-4eb5-9cc3-768c3f29fda3",
   "metadata": {},
   "outputs": [],
   "source": [
    "res[0].show()"
   ]
  },
  {
   "cell_type": "code",
   "execution_count": 40,
   "id": "4c493470-269e-4fe8-90e5-29c2593bbcdb",
   "metadata": {},
   "outputs": [
    {
     "name": "stdout",
     "output_type": "stream",
     "text": [
      "\n",
      "image 1/1 /home/shagor/Desktop/Code/Computer vision/img/js_b.jpg: 480x640 1 person, 1 bottle, 141.1ms\n",
      "Speed: 6.6ms preprocess, 141.1ms inference, 2.4ms postprocess per image at shape (1, 3, 480, 640)\n",
      "Results saved to \u001b[1m/home/shagor/Desktop/Code/Computer vision/runs/segment/predict\u001b[0m\n"
     ]
    }
   ],
   "source": [
    "res = model('img/js_b.jpg', save=True)"
   ]
  },
  {
   "cell_type": "markdown",
   "id": "c20d2718-b985-4b53-a649-3d82bf38bdab",
   "metadata": {},
   "source": [
    "### 1.2 Video"
   ]
  },
  {
   "cell_type": "code",
   "execution_count": 33,
   "id": "6e744039-67db-420b-8e2d-53c75bd8ba60",
   "metadata": {},
   "outputs": [],
   "source": [
    "# res = model('vid/s.mp4', save=True)"
   ]
  },
  {
   "cell_type": "markdown",
   "id": "59b9d0ce-72c9-46ec-9c06-914e47c100ea",
   "metadata": {},
   "source": [
    "### 1.3 web camera"
   ]
  },
  {
   "cell_type": "code",
   "execution_count": null,
   "id": "213ff933-1519-4734-9463-bfca8bfacc26",
   "metadata": {},
   "outputs": [],
   "source": [
    "# res = model(0, save=True)"
   ]
  },
  {
   "cell_type": "code",
   "execution_count": null,
   "id": "472f75ed-c37c-46ba-b606-18937188f8c2",
   "metadata": {},
   "outputs": [],
   "source": []
  },
  {
   "cell_type": "code",
   "execution_count": null,
   "id": "eaf30be4-a356-4cd1-acf5-d5af552cceea",
   "metadata": {},
   "outputs": [],
   "source": []
  },
  {
   "cell_type": "code",
   "execution_count": null,
   "id": "7e3ad5c5-df1a-449e-87c4-4c1f9e3fe290",
   "metadata": {},
   "outputs": [],
   "source": []
  },
  {
   "cell_type": "markdown",
   "id": "ede814a1-541f-4922-9eb4-4186b2cfe56b",
   "metadata": {},
   "source": [
    "# 3. Image Classification"
   ]
  },
  {
   "cell_type": "code",
   "execution_count": 42,
   "id": "68460b4c-bf5c-464b-8ca5-055402c30cb1",
   "metadata": {},
   "outputs": [],
   "source": [
    "model = YOLO('yolo11n-cls.pt')"
   ]
  },
  {
   "cell_type": "code",
   "execution_count": 43,
   "id": "a206da6d-e91a-4588-8d42-a0472aa7e0e9",
   "metadata": {},
   "outputs": [
    {
     "name": "stdout",
     "output_type": "stream",
     "text": [
      "{0: 'tench', 1: 'goldfish', 2: 'great_white_shark', 3: 'tiger_shark', 4: 'hammerhead', 5: 'electric_ray', 6: 'stingray', 7: 'cock', 8: 'hen', 9: 'ostrich', 10: 'brambling', 11: 'goldfinch', 12: 'house_finch', 13: 'junco', 14: 'indigo_bunting', 15: 'robin', 16: 'bulbul', 17: 'jay', 18: 'magpie', 19: 'chickadee', 20: 'water_ouzel', 21: 'kite', 22: 'bald_eagle', 23: 'vulture', 24: 'great_grey_owl', 25: 'European_fire_salamander', 26: 'common_newt', 27: 'eft', 28: 'spotted_salamander', 29: 'axolotl', 30: 'bullfrog', 31: 'tree_frog', 32: 'tailed_frog', 33: 'loggerhead', 34: 'leatherback_turtle', 35: 'mud_turtle', 36: 'terrapin', 37: 'box_turtle', 38: 'banded_gecko', 39: 'common_iguana', 40: 'American_chameleon', 41: 'whiptail', 42: 'agama', 43: 'frilled_lizard', 44: 'alligator_lizard', 45: 'Gila_monster', 46: 'green_lizard', 47: 'African_chameleon', 48: 'Komodo_dragon', 49: 'African_crocodile', 50: 'American_alligator', 51: 'triceratops', 52: 'thunder_snake', 53: 'ringneck_snake', 54: 'hognose_snake', 55: 'green_snake', 56: 'king_snake', 57: 'garter_snake', 58: 'water_snake', 59: 'vine_snake', 60: 'night_snake', 61: 'boa_constrictor', 62: 'rock_python', 63: 'Indian_cobra', 64: 'green_mamba', 65: 'sea_snake', 66: 'horned_viper', 67: 'diamondback', 68: 'sidewinder', 69: 'trilobite', 70: 'harvestman', 71: 'scorpion', 72: 'black_and_gold_garden_spider', 73: 'barn_spider', 74: 'garden_spider', 75: 'black_widow', 76: 'tarantula', 77: 'wolf_spider', 78: 'tick', 79: 'centipede', 80: 'black_grouse', 81: 'ptarmigan', 82: 'ruffed_grouse', 83: 'prairie_chicken', 84: 'peacock', 85: 'quail', 86: 'partridge', 87: 'African_grey', 88: 'macaw', 89: 'sulphur-crested_cockatoo', 90: 'lorikeet', 91: 'coucal', 92: 'bee_eater', 93: 'hornbill', 94: 'hummingbird', 95: 'jacamar', 96: 'toucan', 97: 'drake', 98: 'red-breasted_merganser', 99: 'goose', 100: 'black_swan', 101: 'tusker', 102: 'echidna', 103: 'platypus', 104: 'wallaby', 105: 'koala', 106: 'wombat', 107: 'jellyfish', 108: 'sea_anemone', 109: 'brain_coral', 110: 'flatworm', 111: 'nematode', 112: 'conch', 113: 'snail', 114: 'slug', 115: 'sea_slug', 116: 'chiton', 117: 'chambered_nautilus', 118: 'Dungeness_crab', 119: 'rock_crab', 120: 'fiddler_crab', 121: 'king_crab', 122: 'American_lobster', 123: 'spiny_lobster', 124: 'crayfish', 125: 'hermit_crab', 126: 'isopod', 127: 'white_stork', 128: 'black_stork', 129: 'spoonbill', 130: 'flamingo', 131: 'little_blue_heron', 132: 'American_egret', 133: 'bittern', 134: 'crane_(bird)', 135: 'limpkin', 136: 'European_gallinule', 137: 'American_coot', 138: 'bustard', 139: 'ruddy_turnstone', 140: 'red-backed_sandpiper', 141: 'redshank', 142: 'dowitcher', 143: 'oystercatcher', 144: 'pelican', 145: 'king_penguin', 146: 'albatross', 147: 'grey_whale', 148: 'killer_whale', 149: 'dugong', 150: 'sea_lion', 151: 'Chihuahua', 152: 'Japanese_spaniel', 153: 'Maltese_dog', 154: 'Pekinese', 155: 'Shih-Tzu', 156: 'Blenheim_spaniel', 157: 'papillon', 158: 'toy_terrier', 159: 'Rhodesian_ridgeback', 160: 'Afghan_hound', 161: 'basset', 162: 'beagle', 163: 'bloodhound', 164: 'bluetick', 165: 'black-and-tan_coonhound', 166: 'Walker_hound', 167: 'English_foxhound', 168: 'redbone', 169: 'borzoi', 170: 'Irish_wolfhound', 171: 'Italian_greyhound', 172: 'whippet', 173: 'Ibizan_hound', 174: 'Norwegian_elkhound', 175: 'otterhound', 176: 'Saluki', 177: 'Scottish_deerhound', 178: 'Weimaraner', 179: 'Staffordshire_bullterrier', 180: 'American_Staffordshire_terrier', 181: 'Bedlington_terrier', 182: 'Border_terrier', 183: 'Kerry_blue_terrier', 184: 'Irish_terrier', 185: 'Norfolk_terrier', 186: 'Norwich_terrier', 187: 'Yorkshire_terrier', 188: 'wire-haired_fox_terrier', 189: 'Lakeland_terrier', 190: 'Sealyham_terrier', 191: 'Airedale', 192: 'cairn', 193: 'Australian_terrier', 194: 'Dandie_Dinmont', 195: 'Boston_bull', 196: 'miniature_schnauzer', 197: 'giant_schnauzer', 198: 'standard_schnauzer', 199: 'Scotch_terrier', 200: 'Tibetan_terrier', 201: 'silky_terrier', 202: 'soft-coated_wheaten_terrier', 203: 'West_Highland_white_terrier', 204: 'Lhasa', 205: 'flat-coated_retriever', 206: 'curly-coated_retriever', 207: 'golden_retriever', 208: 'Labrador_retriever', 209: 'Chesapeake_Bay_retriever', 210: 'German_short-haired_pointer', 211: 'vizsla', 212: 'English_setter', 213: 'Irish_setter', 214: 'Gordon_setter', 215: 'Brittany_spaniel', 216: 'clumber', 217: 'English_springer', 218: 'Welsh_springer_spaniel', 219: 'cocker_spaniel', 220: 'Sussex_spaniel', 221: 'Irish_water_spaniel', 222: 'kuvasz', 223: 'schipperke', 224: 'groenendael', 225: 'malinois', 226: 'briard', 227: 'kelpie', 228: 'komondor', 229: 'Old_English_sheepdog', 230: 'Shetland_sheepdog', 231: 'collie', 232: 'Border_collie', 233: 'Bouvier_des_Flandres', 234: 'Rottweiler', 235: 'German_shepherd', 236: 'Doberman', 237: 'miniature_pinscher', 238: 'Greater_Swiss_Mountain_dog', 239: 'Bernese_mountain_dog', 240: 'Appenzeller', 241: 'EntleBucher', 242: 'boxer', 243: 'bull_mastiff', 244: 'Tibetan_mastiff', 245: 'French_bulldog', 246: 'Great_Dane', 247: 'Saint_Bernard', 248: 'Eskimo_dog', 249: 'malamute', 250: 'Siberian_husky', 251: 'dalmatian', 252: 'affenpinscher', 253: 'basenji', 254: 'pug', 255: 'Leonberg', 256: 'Newfoundland', 257: 'Great_Pyrenees', 258: 'Samoyed', 259: 'Pomeranian', 260: 'chow', 261: 'keeshond', 262: 'Brabancon_griffon', 263: 'Pembroke', 264: 'Cardigan', 265: 'toy_poodle', 266: 'miniature_poodle', 267: 'standard_poodle', 268: 'Mexican_hairless', 269: 'timber_wolf', 270: 'white_wolf', 271: 'red_wolf', 272: 'coyote', 273: 'dingo', 274: 'dhole', 275: 'African_hunting_dog', 276: 'hyena', 277: 'red_fox', 278: 'kit_fox', 279: 'Arctic_fox', 280: 'grey_fox', 281: 'tabby', 282: 'tiger_cat', 283: 'Persian_cat', 284: 'Siamese_cat', 285: 'Egyptian_cat', 286: 'cougar', 287: 'lynx', 288: 'leopard', 289: 'snow_leopard', 290: 'jaguar', 291: 'lion', 292: 'tiger', 293: 'cheetah', 294: 'brown_bear', 295: 'American_black_bear', 296: 'ice_bear', 297: 'sloth_bear', 298: 'mongoose', 299: 'meerkat', 300: 'tiger_beetle', 301: 'ladybug', 302: 'ground_beetle', 303: 'long-horned_beetle', 304: 'leaf_beetle', 305: 'dung_beetle', 306: 'rhinoceros_beetle', 307: 'weevil', 308: 'fly', 309: 'bee', 310: 'ant', 311: 'grasshopper', 312: 'cricket', 313: 'walking_stick', 314: 'cockroach', 315: 'mantis', 316: 'cicada', 317: 'leafhopper', 318: 'lacewing', 319: 'dragonfly', 320: 'damselfly', 321: 'admiral', 322: 'ringlet', 323: 'monarch', 324: 'cabbage_butterfly', 325: 'sulphur_butterfly', 326: 'lycaenid', 327: 'starfish', 328: 'sea_urchin', 329: 'sea_cucumber', 330: 'wood_rabbit', 331: 'hare', 332: 'Angora', 333: 'hamster', 334: 'porcupine', 335: 'fox_squirrel', 336: 'marmot', 337: 'beaver', 338: 'guinea_pig', 339: 'sorrel', 340: 'zebra', 341: 'hog', 342: 'wild_boar', 343: 'warthog', 344: 'hippopotamus', 345: 'ox', 346: 'water_buffalo', 347: 'bison', 348: 'ram', 349: 'bighorn', 350: 'ibex', 351: 'hartebeest', 352: 'impala', 353: 'gazelle', 354: 'Arabian_camel', 355: 'llama', 356: 'weasel', 357: 'mink', 358: 'polecat', 359: 'black-footed_ferret', 360: 'otter', 361: 'skunk', 362: 'badger', 363: 'armadillo', 364: 'three-toed_sloth', 365: 'orangutan', 366: 'gorilla', 367: 'chimpanzee', 368: 'gibbon', 369: 'siamang', 370: 'guenon', 371: 'patas', 372: 'baboon', 373: 'macaque', 374: 'langur', 375: 'colobus', 376: 'proboscis_monkey', 377: 'marmoset', 378: 'capuchin', 379: 'howler_monkey', 380: 'titi', 381: 'spider_monkey', 382: 'squirrel_monkey', 383: 'Madagascar_cat', 384: 'indri', 385: 'Indian_elephant', 386: 'African_elephant', 387: 'lesser_panda', 388: 'giant_panda', 389: 'barracouta', 390: 'eel', 391: 'coho', 392: 'rock_beauty', 393: 'anemone_fish', 394: 'sturgeon', 395: 'gar', 396: 'lionfish', 397: 'puffer', 398: 'abacus', 399: 'abaya', 400: 'academic_gown', 401: 'accordion', 402: 'acoustic_guitar', 403: 'aircraft_carrier', 404: 'airliner', 405: 'airship', 406: 'altar', 407: 'ambulance', 408: 'amphibian', 409: 'analog_clock', 410: 'apiary', 411: 'apron', 412: 'ashcan', 413: 'assault_rifle', 414: 'backpack', 415: 'bakery', 416: 'balance_beam', 417: 'balloon', 418: 'ballpoint', 419: 'Band_Aid', 420: 'banjo', 421: 'bannister', 422: 'barbell', 423: 'barber_chair', 424: 'barbershop', 425: 'barn', 426: 'barometer', 427: 'barrel', 428: 'barrow', 429: 'baseball', 430: 'basketball', 431: 'bassinet', 432: 'bassoon', 433: 'bathing_cap', 434: 'bath_towel', 435: 'bathtub', 436: 'beach_wagon', 437: 'beacon', 438: 'beaker', 439: 'bearskin', 440: 'beer_bottle', 441: 'beer_glass', 442: 'bell_cote', 443: 'bib', 444: 'bicycle-built-for-two', 445: 'bikini', 446: 'binder', 447: 'binoculars', 448: 'birdhouse', 449: 'boathouse', 450: 'bobsled', 451: 'bolo_tie', 452: 'bonnet', 453: 'bookcase', 454: 'bookshop', 455: 'bottlecap', 456: 'bow', 457: 'bow_tie', 458: 'brass', 459: 'brassiere', 460: 'breakwater', 461: 'breastplate', 462: 'broom', 463: 'bucket', 464: 'buckle', 465: 'bulletproof_vest', 466: 'bullet_train', 467: 'butcher_shop', 468: 'cab', 469: 'caldron', 470: 'candle', 471: 'cannon', 472: 'canoe', 473: 'can_opener', 474: 'cardigan', 475: 'car_mirror', 476: 'carousel', 477: \"carpenter's_kit\", 478: 'carton', 479: 'car_wheel', 480: 'cash_machine', 481: 'cassette', 482: 'cassette_player', 483: 'castle', 484: 'catamaran', 485: 'CD_player', 486: 'cello', 487: 'cellular_telephone', 488: 'chain', 489: 'chainlink_fence', 490: 'chain_mail', 491: 'chain_saw', 492: 'chest', 493: 'chiffonier', 494: 'chime', 495: 'china_cabinet', 496: 'Christmas_stocking', 497: 'church', 498: 'cinema', 499: 'cleaver', 500: 'cliff_dwelling', 501: 'cloak', 502: 'clog', 503: 'cocktail_shaker', 504: 'coffee_mug', 505: 'coffeepot', 506: 'coil', 507: 'combination_lock', 508: 'computer_keyboard', 509: 'confectionery', 510: 'container_ship', 511: 'convertible', 512: 'corkscrew', 513: 'cornet', 514: 'cowboy_boot', 515: 'cowboy_hat', 516: 'cradle', 517: 'crane_(machine)', 518: 'crash_helmet', 519: 'crate', 520: 'crib', 521: 'Crock_Pot', 522: 'croquet_ball', 523: 'crutch', 524: 'cuirass', 525: 'dam', 526: 'desk', 527: 'desktop_computer', 528: 'dial_telephone', 529: 'diaper', 530: 'digital_clock', 531: 'digital_watch', 532: 'dining_table', 533: 'dishrag', 534: 'dishwasher', 535: 'disk_brake', 536: 'dock', 537: 'dogsled', 538: 'dome', 539: 'doormat', 540: 'drilling_platform', 541: 'drum', 542: 'drumstick', 543: 'dumbbell', 544: 'Dutch_oven', 545: 'electric_fan', 546: 'electric_guitar', 547: 'electric_locomotive', 548: 'entertainment_center', 549: 'envelope', 550: 'espresso_maker', 551: 'face_powder', 552: 'feather_boa', 553: 'file', 554: 'fireboat', 555: 'fire_engine', 556: 'fire_screen', 557: 'flagpole', 558: 'flute', 559: 'folding_chair', 560: 'football_helmet', 561: 'forklift', 562: 'fountain', 563: 'fountain_pen', 564: 'four-poster', 565: 'freight_car', 566: 'French_horn', 567: 'frying_pan', 568: 'fur_coat', 569: 'garbage_truck', 570: 'gasmask', 571: 'gas_pump', 572: 'goblet', 573: 'go-kart', 574: 'golf_ball', 575: 'golfcart', 576: 'gondola', 577: 'gong', 578: 'gown', 579: 'grand_piano', 580: 'greenhouse', 581: 'grille', 582: 'grocery_store', 583: 'guillotine', 584: 'hair_slide', 585: 'hair_spray', 586: 'half_track', 587: 'hammer', 588: 'hamper', 589: 'hand_blower', 590: 'hand-held_computer', 591: 'handkerchief', 592: 'hard_disc', 593: 'harmonica', 594: 'harp', 595: 'harvester', 596: 'hatchet', 597: 'holster', 598: 'home_theater', 599: 'honeycomb', 600: 'hook', 601: 'hoopskirt', 602: 'horizontal_bar', 603: 'horse_cart', 604: 'hourglass', 605: 'iPod', 606: 'iron', 607: \"jack-o'-lantern\", 608: 'jean', 609: 'jeep', 610: 'jersey', 611: 'jigsaw_puzzle', 612: 'jinrikisha', 613: 'joystick', 614: 'kimono', 615: 'knee_pad', 616: 'knot', 617: 'lab_coat', 618: 'ladle', 619: 'lampshade', 620: 'laptop', 621: 'lawn_mower', 622: 'lens_cap', 623: 'letter_opener', 624: 'library', 625: 'lifeboat', 626: 'lighter', 627: 'limousine', 628: 'liner', 629: 'lipstick', 630: 'Loafer', 631: 'lotion', 632: 'loudspeaker', 633: 'loupe', 634: 'lumbermill', 635: 'magnetic_compass', 636: 'mailbag', 637: 'mailbox', 638: 'maillot_(tights)', 639: 'maillot_(tank_suit)', 640: 'manhole_cover', 641: 'maraca', 642: 'marimba', 643: 'mask', 644: 'matchstick', 645: 'maypole', 646: 'maze', 647: 'measuring_cup', 648: 'medicine_chest', 649: 'megalith', 650: 'microphone', 651: 'microwave', 652: 'military_uniform', 653: 'milk_can', 654: 'minibus', 655: 'miniskirt', 656: 'minivan', 657: 'missile', 658: 'mitten', 659: 'mixing_bowl', 660: 'mobile_home', 661: 'Model_T', 662: 'modem', 663: 'monastery', 664: 'monitor', 665: 'moped', 666: 'mortar', 667: 'mortarboard', 668: 'mosque', 669: 'mosquito_net', 670: 'motor_scooter', 671: 'mountain_bike', 672: 'mountain_tent', 673: 'mouse', 674: 'mousetrap', 675: 'moving_van', 676: 'muzzle', 677: 'nail', 678: 'neck_brace', 679: 'necklace', 680: 'nipple', 681: 'notebook', 682: 'obelisk', 683: 'oboe', 684: 'ocarina', 685: 'odometer', 686: 'oil_filter', 687: 'organ', 688: 'oscilloscope', 689: 'overskirt', 690: 'oxcart', 691: 'oxygen_mask', 692: 'packet', 693: 'paddle', 694: 'paddlewheel', 695: 'padlock', 696: 'paintbrush', 697: 'pajama', 698: 'palace', 699: 'panpipe', 700: 'paper_towel', 701: 'parachute', 702: 'parallel_bars', 703: 'park_bench', 704: 'parking_meter', 705: 'passenger_car', 706: 'patio', 707: 'pay-phone', 708: 'pedestal', 709: 'pencil_box', 710: 'pencil_sharpener', 711: 'perfume', 712: 'Petri_dish', 713: 'photocopier', 714: 'pick', 715: 'pickelhaube', 716: 'picket_fence', 717: 'pickup', 718: 'pier', 719: 'piggy_bank', 720: 'pill_bottle', 721: 'pillow', 722: 'ping-pong_ball', 723: 'pinwheel', 724: 'pirate', 725: 'pitcher', 726: 'plane', 727: 'planetarium', 728: 'plastic_bag', 729: 'plate_rack', 730: 'plow', 731: 'plunger', 732: 'Polaroid_camera', 733: 'pole', 734: 'police_van', 735: 'poncho', 736: 'pool_table', 737: 'pop_bottle', 738: 'pot', 739: \"potter's_wheel\", 740: 'power_drill', 741: 'prayer_rug', 742: 'printer', 743: 'prison', 744: 'projectile', 745: 'projector', 746: 'puck', 747: 'punching_bag', 748: 'purse', 749: 'quill', 750: 'quilt', 751: 'racer', 752: 'racket', 753: 'radiator', 754: 'radio', 755: 'radio_telescope', 756: 'rain_barrel', 757: 'recreational_vehicle', 758: 'reel', 759: 'reflex_camera', 760: 'refrigerator', 761: 'remote_control', 762: 'restaurant', 763: 'revolver', 764: 'rifle', 765: 'rocking_chair', 766: 'rotisserie', 767: 'rubber_eraser', 768: 'rugby_ball', 769: 'rule', 770: 'running_shoe', 771: 'safe', 772: 'safety_pin', 773: 'saltshaker', 774: 'sandal', 775: 'sarong', 776: 'sax', 777: 'scabbard', 778: 'scale', 779: 'school_bus', 780: 'schooner', 781: 'scoreboard', 782: 'screen', 783: 'screw', 784: 'screwdriver', 785: 'seat_belt', 786: 'sewing_machine', 787: 'shield', 788: 'shoe_shop', 789: 'shoji', 790: 'shopping_basket', 791: 'shopping_cart', 792: 'shovel', 793: 'shower_cap', 794: 'shower_curtain', 795: 'ski', 796: 'ski_mask', 797: 'sleeping_bag', 798: 'slide_rule', 799: 'sliding_door', 800: 'slot', 801: 'snorkel', 802: 'snowmobile', 803: 'snowplow', 804: 'soap_dispenser', 805: 'soccer_ball', 806: 'sock', 807: 'solar_dish', 808: 'sombrero', 809: 'soup_bowl', 810: 'space_bar', 811: 'space_heater', 812: 'space_shuttle', 813: 'spatula', 814: 'speedboat', 815: 'spider_web', 816: 'spindle', 817: 'sports_car', 818: 'spotlight', 819: 'stage', 820: 'steam_locomotive', 821: 'steel_arch_bridge', 822: 'steel_drum', 823: 'stethoscope', 824: 'stole', 825: 'stone_wall', 826: 'stopwatch', 827: 'stove', 828: 'strainer', 829: 'streetcar', 830: 'stretcher', 831: 'studio_couch', 832: 'stupa', 833: 'submarine', 834: 'suit', 835: 'sundial', 836: 'sunglass', 837: 'sunglasses', 838: 'sunscreen', 839: 'suspension_bridge', 840: 'swab', 841: 'sweatshirt', 842: 'swimming_trunks', 843: 'swing', 844: 'switch', 845: 'syringe', 846: 'table_lamp', 847: 'tank', 848: 'tape_player', 849: 'teapot', 850: 'teddy', 851: 'television', 852: 'tennis_ball', 853: 'thatch', 854: 'theater_curtain', 855: 'thimble', 856: 'thresher', 857: 'throne', 858: 'tile_roof', 859: 'toaster', 860: 'tobacco_shop', 861: 'toilet_seat', 862: 'torch', 863: 'totem_pole', 864: 'tow_truck', 865: 'toyshop', 866: 'tractor', 867: 'trailer_truck', 868: 'tray', 869: 'trench_coat', 870: 'tricycle', 871: 'trimaran', 872: 'tripod', 873: 'triumphal_arch', 874: 'trolleybus', 875: 'trombone', 876: 'tub', 877: 'turnstile', 878: 'typewriter_keyboard', 879: 'umbrella', 880: 'unicycle', 881: 'upright', 882: 'vacuum', 883: 'vase', 884: 'vault', 885: 'velvet', 886: 'vending_machine', 887: 'vestment', 888: 'viaduct', 889: 'violin', 890: 'volleyball', 891: 'waffle_iron', 892: 'wall_clock', 893: 'wallet', 894: 'wardrobe', 895: 'warplane', 896: 'washbasin', 897: 'washer', 898: 'water_bottle', 899: 'water_jug', 900: 'water_tower', 901: 'whiskey_jug', 902: 'whistle', 903: 'wig', 904: 'window_screen', 905: 'window_shade', 906: 'Windsor_tie', 907: 'wine_bottle', 908: 'wing', 909: 'wok', 910: 'wooden_spoon', 911: 'wool', 912: 'worm_fence', 913: 'wreck', 914: 'yawl', 915: 'yurt', 916: 'web_site', 917: 'comic_book', 918: 'crossword_puzzle', 919: 'street_sign', 920: 'traffic_light', 921: 'book_jacket', 922: 'menu', 923: 'plate', 924: 'guacamole', 925: 'consomme', 926: 'hot_pot', 927: 'trifle', 928: 'ice_cream', 929: 'ice_lolly', 930: 'French_loaf', 931: 'bagel', 932: 'pretzel', 933: 'cheeseburger', 934: 'hotdog', 935: 'mashed_potato', 936: 'head_cabbage', 937: 'broccoli', 938: 'cauliflower', 939: 'zucchini', 940: 'spaghetti_squash', 941: 'acorn_squash', 942: 'butternut_squash', 943: 'cucumber', 944: 'artichoke', 945: 'bell_pepper', 946: 'cardoon', 947: 'mushroom', 948: 'Granny_Smith', 949: 'strawberry', 950: 'orange', 951: 'lemon', 952: 'fig', 953: 'pineapple', 954: 'banana', 955: 'jackfruit', 956: 'custard_apple', 957: 'pomegranate', 958: 'hay', 959: 'carbonara', 960: 'chocolate_sauce', 961: 'dough', 962: 'meat_loaf', 963: 'pizza', 964: 'potpie', 965: 'burrito', 966: 'red_wine', 967: 'espresso', 968: 'cup', 969: 'eggnog', 970: 'alp', 971: 'bubble', 972: 'cliff', 973: 'coral_reef', 974: 'geyser', 975: 'lakeside', 976: 'promontory', 977: 'sandbar', 978: 'seashore', 979: 'valley', 980: 'volcano', 981: 'ballplayer', 982: 'groom', 983: 'scuba_diver', 984: 'rapeseed', 985: 'daisy', 986: \"yellow_lady's_slipper\", 987: 'corn', 988: 'acorn', 989: 'hip', 990: 'buckeye', 991: 'coral_fungus', 992: 'agaric', 993: 'gyromitra', 994: 'stinkhorn', 995: 'earthstar', 996: 'hen-of-the-woods', 997: 'bolete', 998: 'ear', 999: 'toilet_tissue'}\n"
     ]
    }
   ],
   "source": [
    "print(model.names)"
   ]
  },
  {
   "cell_type": "code",
   "execution_count": 44,
   "id": "8ccaff7c-e51c-4f3f-b8cd-c981c092042b",
   "metadata": {},
   "outputs": [
    {
     "name": "stdout",
     "output_type": "stream",
     "text": [
      "\n",
      "image 1/1 /home/shagor/Desktop/Code/Computer vision/img/cr.jpg: 224x224 sunscreen 0.16, Band_Aid 0.10, military_uniform 0.10, bow_tie 0.06, Windsor_tie 0.04, 15.9ms\n",
      "Speed: 23.4ms preprocess, 15.9ms inference, 0.0ms postprocess per image at shape (1, 3, 224, 224)\n"
     ]
    }
   ],
   "source": [
    "res = model(\"img/cr.jpg\", device=\"cpu\")  # use device=\"cuda\" if GPU is set up"
   ]
  },
  {
   "cell_type": "code",
   "execution_count": 45,
   "id": "ae0d0c5b-74f5-43ef-b8b4-a33cad9ae94c",
   "metadata": {},
   "outputs": [
    {
     "name": "stdout",
     "output_type": "stream",
     "text": [
      "\u001b[KDownloading https://ultralytics.com/assets/Arial.ttf to '/home/shagor/.config/Ultralytics/Arial.ttf': 100% ━━━━━━━━━━━━ 755.1KB 1.8MB/s 0.4s 0.4s<0.0ss\n"
     ]
    }
   ],
   "source": [
    "res[0].show()"
   ]
  },
  {
   "cell_type": "code",
   "execution_count": 46,
   "id": "f6d33c1a-5fd4-4d94-b29c-d3ba41b5f8d5",
   "metadata": {},
   "outputs": [
    {
     "name": "stdout",
     "output_type": "stream",
     "text": [
      "\n",
      "image 1/1 /home/shagor/Desktop/Code/Computer vision/img/js_b.jpg: 224x224 scoreboard 0.54, lab_coat 0.15, racket 0.12, Windsor_tie 0.03, television 0.02, 14.6ms\n",
      "Speed: 3.6ms preprocess, 14.6ms inference, 0.0ms postprocess per image at shape (1, 3, 224, 224)\n",
      "Results saved to \u001b[1m/home/shagor/Desktop/Code/Computer vision/runs/classify/predict\u001b[0m\n"
     ]
    }
   ],
   "source": [
    "res = model('img/js_b.jpg', save=True)"
   ]
  },
  {
   "cell_type": "code",
   "execution_count": null,
   "id": "b9616f0e-f14f-4699-b1ce-ed0964bc174b",
   "metadata": {},
   "outputs": [],
   "source": []
  },
  {
   "cell_type": "code",
   "execution_count": null,
   "id": "8b173bb3-0acf-404a-a84b-6ebafb6fa7f6",
   "metadata": {},
   "outputs": [],
   "source": []
  },
  {
   "cell_type": "code",
   "execution_count": null,
   "id": "768f1045-3331-4c77-878a-7eda6d6b48a1",
   "metadata": {},
   "outputs": [],
   "source": []
  },
  {
   "cell_type": "markdown",
   "id": "b8d7c90f-93b6-4d50-9455-9676761d8a97",
   "metadata": {},
   "source": [
    "# 4. Pose Estimation"
   ]
  },
  {
   "cell_type": "code",
   "execution_count": 49,
   "id": "330ba623-f0be-470f-a54f-0adb5cac8094",
   "metadata": {},
   "outputs": [],
   "source": [
    "model = YOLO('yolo11n-pose.pt')"
   ]
  },
  {
   "cell_type": "code",
   "execution_count": 50,
   "id": "6db82940-412d-4ce7-a2e4-4d3f76cca90e",
   "metadata": {},
   "outputs": [
    {
     "name": "stdout",
     "output_type": "stream",
     "text": [
      "{0: 'person'}\n"
     ]
    }
   ],
   "source": [
    "print(model.names)"
   ]
  },
  {
   "cell_type": "code",
   "execution_count": 51,
   "id": "983c3f0e-9fb5-40ee-b9dc-6b789db3a771",
   "metadata": {},
   "outputs": [
    {
     "data": {
      "text/plain": [
       "[17, 3]"
      ]
     },
     "execution_count": 51,
     "metadata": {},
     "output_type": "execute_result"
    }
   ],
   "source": [
    "model.kpt_shape"
   ]
  },
  {
   "cell_type": "code",
   "execution_count": 52,
   "id": "7c6117bc-a0a2-4ad2-8bcd-b63955e3c884",
   "metadata": {},
   "outputs": [
    {
     "name": "stdout",
     "output_type": "stream",
     "text": [
      "Pose keypoints: ['Nose', 'Left Eye', 'Right Eye', 'Left Ear', 'Right Ear', 'Left Shoulder', 'Right Shoulder', 'Left Elbow', 'Right Elbow', 'Left Wrist', 'Right Wrist', 'Left Hip', 'Right Hip', 'Left Knee', 'Right Knee', 'Left Ankle', 'Right Ankle']\n"
     ]
    }
   ],
   "source": [
    "# Define COCO 17 keypoints\n",
    "keypoints = [\n",
    "    \"Nose\", \"Left Eye\", \"Right Eye\", \"Left Ear\", \"Right Ear\",\n",
    "    \"Left Shoulder\", \"Right Shoulder\", \"Left Elbow\", \"Right Elbow\",\n",
    "    \"Left Wrist\", \"Right Wrist\", \"Left Hip\", \"Right Hip\",\n",
    "    \"Left Knee\", \"Right Knee\", \"Left Ankle\", \"Right Ankle\"\n",
    "]\n",
    "\n",
    "print(\"Pose keypoints:\", keypoints)"
   ]
  },
  {
   "cell_type": "markdown",
   "id": "118b2c01-17ef-4e2c-84d0-e520a728410f",
   "metadata": {},
   "source": [
    "### 4.1 Images"
   ]
  },
  {
   "cell_type": "code",
   "execution_count": 53,
   "id": "2f543031-3ad3-4f85-b093-57fe868bb71e",
   "metadata": {},
   "outputs": [
    {
     "name": "stdout",
     "output_type": "stream",
     "text": [
      "\n",
      "image 1/1 /home/shagor/Desktop/Code/Computer vision/img/cr.jpg: 640x512 1 person, 79.0ms\n",
      "Speed: 8.7ms preprocess, 79.0ms inference, 0.6ms postprocess per image at shape (1, 3, 640, 512)\n"
     ]
    }
   ],
   "source": [
    "res = model(\"img/cr.jpg\", device=\"cpu\")  # use device=\"cuda\" if GPU is set up"
   ]
  },
  {
   "cell_type": "code",
   "execution_count": 54,
   "id": "e6a5a42a-0bbf-4eb4-8a7a-fb980c5f648e",
   "metadata": {},
   "outputs": [],
   "source": [
    "res[0].show()"
   ]
  },
  {
   "cell_type": "code",
   "execution_count": 55,
   "id": "31ef8e06-32f0-41e8-a89a-f832ba5ad13d",
   "metadata": {},
   "outputs": [
    {
     "name": "stdout",
     "output_type": "stream",
     "text": [
      "\n",
      "image 1/1 /home/shagor/Desktop/Code/Computer vision/img/js_b.jpg: 480x640 1 person, 127.2ms\n",
      "Speed: 3.6ms preprocess, 127.2ms inference, 0.7ms postprocess per image at shape (1, 3, 480, 640)\n",
      "Results saved to \u001b[1m/home/shagor/Desktop/Code/Computer vision/runs/pose/predict\u001b[0m\n"
     ]
    }
   ],
   "source": [
    "res = model('img/js_b.jpg', save=True)"
   ]
  },
  {
   "cell_type": "code",
   "execution_count": 53,
   "id": "7abc3ce9-08b0-41ab-939f-d354cca81522",
   "metadata": {},
   "outputs": [
    {
     "name": "stdout",
     "output_type": "stream",
     "text": [
      "Boxes: tensor([[146.1431,  56.7264, 494.9449, 384.2066]])\n",
      "Keypoints: tensor([[[286.1642, 173.4946],\n",
      "         [311.2011, 151.8855],\n",
      "         [271.3769, 151.9181],\n",
      "         [354.4969, 162.3604],\n",
      "         [257.2141, 158.3696],\n",
      "         [422.5103, 260.6047],\n",
      "         [211.5784, 258.5569],\n",
      "         [468.4432, 399.9102],\n",
      "         [182.1895, 400.9199],\n",
      "         [388.2953, 404.5732],\n",
      "         [281.5880, 410.3306],\n",
      "         [368.2688, 432.6387],\n",
      "         [234.2615, 428.9904],\n",
      "         [364.1515, 370.8339],\n",
      "         [228.9443, 364.3002],\n",
      "         [296.3619, 445.3637],\n",
      "         [237.1537, 436.6370]]])\n",
      "Keypoint Confidence: tensor([[0.9938, 0.9953, 0.9719, 0.9721, 0.4187, 0.9691, 0.9544, 0.4360, 0.3348, 0.4015, 0.2813, 0.0369, 0.0335, 0.0039, 0.0041, 0.0017, 0.0019]])\n"
     ]
    }
   ],
   "source": [
    "for r in res:\n",
    "    # Each detection has keypoints\n",
    "    print(\"Boxes:\", r.boxes.xyxy)        # bounding boxes\n",
    "    print(\"Keypoints:\", r.keypoints.xy)  # (x,y) coords for 17 body joints\n",
    "    print(\"Keypoint Confidence:\", r.keypoints.conf)  # confidence scores"
   ]
  },
  {
   "cell_type": "code",
   "execution_count": 56,
   "id": "443bf3b0-6f0d-4c10-ac6f-ed15b61b6016",
   "metadata": {},
   "outputs": [
    {
     "name": "stdout",
     "output_type": "stream",
     "text": [
      "\n",
      "image 1/1 /home/shagor/Desktop/Code/Computer vision/img/js_b.jpg: 480x640 1 person, 97.4ms\n",
      "Speed: 1.7ms preprocess, 97.4ms inference, 0.7ms postprocess per image at shape (1, 3, 480, 640)\n"
     ]
    }
   ],
   "source": [
    "res = model(\"img/js_b.jpg\", show=True)  # shows annotated image"
   ]
  },
  {
   "cell_type": "code",
   "execution_count": 57,
   "id": "45bda004-9342-4098-bc8f-c4ec728bb4bf",
   "metadata": {},
   "outputs": [],
   "source": [
    "res[0].show()"
   ]
  },
  {
   "cell_type": "code",
   "execution_count": 58,
   "id": "0f0aa121-ea58-425b-9e85-3c923ac03520",
   "metadata": {},
   "outputs": [
    {
     "name": "stdout",
     "output_type": "stream",
     "text": [
      "Nose: (286.2, 173.5)\n",
      "Left Eye: (311.2, 151.9)\n",
      "Right Eye: (271.4, 151.9)\n",
      "Left Ear: (354.5, 162.4)\n",
      "Right Ear: (257.2, 158.4)\n",
      "Left Shoulder: (422.5, 260.6)\n",
      "Right Shoulder: (211.6, 258.6)\n",
      "Left Elbow: (468.4, 399.9)\n",
      "Right Elbow: (182.2, 400.9)\n",
      "Left Wrist: (388.3, 404.6)\n",
      "Right Wrist: (281.6, 410.3)\n",
      "Left Hip: (368.3, 432.6)\n",
      "Right Hip: (234.3, 429.0)\n",
      "Left Knee: (364.2, 370.8)\n",
      "Right Knee: (228.9, 364.3)\n",
      "Left Ankle: (296.4, 445.4)\n",
      "Right Ankle: (237.2, 436.6)\n"
     ]
    }
   ],
   "source": [
    "for r in res:\n",
    "    for kp_id, (x, y) in enumerate(r.keypoints.xy[0]):  # first person\n",
    "        print(f\"{keypoints[kp_id]}: ({x:.1f}, {y:.1f})\")"
   ]
  },
  {
   "cell_type": "code",
   "execution_count": null,
   "id": "bf6b8b86-c4a1-436f-bd74-ce299563b446",
   "metadata": {},
   "outputs": [],
   "source": []
  },
  {
   "cell_type": "code",
   "execution_count": null,
   "id": "9361f0fc-a999-4eaf-8169-c531e0022fd5",
   "metadata": {},
   "outputs": [],
   "source": []
  },
  {
   "cell_type": "code",
   "execution_count": null,
   "id": "dba3bb8f-3839-47e8-ad85-3ba0b84fc880",
   "metadata": {},
   "outputs": [],
   "source": []
  },
  {
   "cell_type": "markdown",
   "id": "900e0efd-10a0-4c8f-b16b-a9e64dd8f1a1",
   "metadata": {},
   "source": [
    "# 5. Oriented Bounding Boxes Object Detection"
   ]
  },
  {
   "cell_type": "code",
   "execution_count": 59,
   "id": "164ce77b-46fd-4dc3-b5d6-b6cb3066b5a9",
   "metadata": {},
   "outputs": [],
   "source": [
    "model = YOLO('yolo11n-obb.pt')"
   ]
  },
  {
   "cell_type": "code",
   "execution_count": 60,
   "id": "4bd5f2f1-1aa9-4d38-adf4-b42bd1354327",
   "metadata": {},
   "outputs": [
    {
     "name": "stdout",
     "output_type": "stream",
     "text": [
      "{0: 'plane', 1: 'ship', 2: 'storage tank', 3: 'baseball diamond', 4: 'tennis court', 5: 'basketball court', 6: 'ground track field', 7: 'harbor', 8: 'bridge', 9: 'large vehicle', 10: 'small vehicle', 11: 'helicopter', 12: 'roundabout', 13: 'soccer ball field', 14: 'swimming pool'}\n"
     ]
    }
   ],
   "source": [
    "print(model.names)"
   ]
  },
  {
   "cell_type": "code",
   "execution_count": 61,
   "id": "be39b182-cfb9-4e59-af2b-0a2751d4185c",
   "metadata": {},
   "outputs": [
    {
     "name": "stdout",
     "output_type": "stream",
     "text": [
      "\n",
      "image 1/1 /home/shagor/Desktop/Code/Computer vision/img/cr.jpg: 1024x800 (no detections), 209.1ms\n",
      "Speed: 12.5ms preprocess, 209.1ms inference, 0.5ms postprocess per image at shape (1, 3, 1024, 800)\n"
     ]
    }
   ],
   "source": [
    "res = model(\"img/cr.jpg\", device=\"cpu\")  # use device=\"cuda\" if GPU is set up"
   ]
  },
  {
   "cell_type": "code",
   "execution_count": 62,
   "id": "f7a67065-41ca-4e8a-9612-d65d38014fc3",
   "metadata": {},
   "outputs": [],
   "source": [
    "res[0].show()"
   ]
  },
  {
   "cell_type": "code",
   "execution_count": 63,
   "id": "73fe0804-5b4e-4678-ac0f-953520433d99",
   "metadata": {},
   "outputs": [
    {
     "name": "stdout",
     "output_type": "stream",
     "text": [
      "\n",
      "image 1/1 /home/shagor/Desktop/Code/Computer vision/img/js_b.jpg: 768x1024 6 ships, 279.0ms\n",
      "Speed: 8.3ms preprocess, 279.0ms inference, 10.8ms postprocess per image at shape (1, 3, 768, 1024)\n",
      "Results saved to \u001b[1m/home/shagor/Desktop/Code/Computer vision/runs/obb/predict\u001b[0m\n"
     ]
    }
   ],
   "source": [
    "res = model('img/js_b.jpg', save=True)"
   ]
  },
  {
   "cell_type": "code",
   "execution_count": null,
   "id": "a7e9b2db-1cab-4694-a124-aa1ded128617",
   "metadata": {},
   "outputs": [],
   "source": []
  },
  {
   "cell_type": "code",
   "execution_count": null,
   "id": "7f213b99-b8e8-40bc-b741-f53c39156ba6",
   "metadata": {},
   "outputs": [],
   "source": []
  },
  {
   "cell_type": "code",
   "execution_count": null,
   "id": "a5982282-88b9-424e-8892-aa484dcf1cf3",
   "metadata": {},
   "outputs": [],
   "source": []
  },
  {
   "cell_type": "code",
   "execution_count": null,
   "id": "3b4d20e1-3490-4fc8-a13a-d988a12c1b7f",
   "metadata": {},
   "outputs": [],
   "source": []
  },
  {
   "cell_type": "code",
   "execution_count": null,
   "id": "17b52fe4-5390-463b-b0b2-7243fcd47536",
   "metadata": {},
   "outputs": [],
   "source": []
  }
 ],
 "metadata": {
  "kernelspec": {
   "display_name": "Python 3 (ipykernel)",
   "language": "python",
   "name": "python3"
  },
  "language_info": {
   "codemirror_mode": {
    "name": "ipython",
    "version": 3
   },
   "file_extension": ".py",
   "mimetype": "text/x-python",
   "name": "python",
   "nbconvert_exporter": "python",
   "pygments_lexer": "ipython3",
   "version": "3.12.3"
  }
 },
 "nbformat": 4,
 "nbformat_minor": 5
}
